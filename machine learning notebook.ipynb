{
 "cells": [
  {
   "cell_type": "markdown",
   "id": "928f87be",
   "metadata": {},
   "source": [
    "# SERIES AND DATAFRAME\n"
   ]
  },
  {
   "cell_type": "code",
   "execution_count": 1,
   "id": "3ec83dc1",
   "metadata": {},
   "outputs": [],
   "source": [
    "import pandas as pd # series is a one dimension data series"
   ]
  },
  {
   "cell_type": "code",
   "execution_count": 2,
   "id": "9efd6e05",
   "metadata": {},
   "outputs": [],
   "source": [
    "series=[10,11,20,40,55]\n",
    "x=pd.Series(data=series,index=[1,2,3,4,5])"
   ]
  },
  {
   "cell_type": "code",
   "execution_count": 3,
   "id": "6c40c820",
   "metadata": {},
   "outputs": [],
   "source": [
    "# dataframe is a two dimenssional data fream "
   ]
  },
  {
   "cell_type": "code",
   "execution_count": 4,
   "id": "fae9675b",
   "metadata": {},
   "outputs": [],
   "source": [
    "series_2=[22,55,77,88,66]\n",
    "y=pd.Series(data=series_2,index=[1,2,3,4,5])"
   ]
  },
  {
   "cell_type": "code",
   "execution_count": 5,
   "id": "0acb9ad7",
   "metadata": {},
   "outputs": [],
   "source": [
    "z=x+y"
   ]
  },
  {
   "cell_type": "code",
   "execution_count": 6,
   "id": "ceff2bc1",
   "metadata": {},
   "outputs": [
    {
     "data": {
      "text/plain": [
       "1     32\n",
       "2     66\n",
       "3     97\n",
       "4    128\n",
       "5    121\n",
       "dtype: int64"
      ]
     },
     "execution_count": 6,
     "metadata": {},
     "output_type": "execute_result"
    }
   ],
   "source": [
    "z"
   ]
  },
  {
   "cell_type": "code",
   "execution_count": 7,
   "id": "27292389",
   "metadata": {},
   "outputs": [
    {
     "data": {
      "text/html": [
       "<div>\n",
       "<style scoped>\n",
       "    .dataframe tbody tr th:only-of-type {\n",
       "        vertical-align: middle;\n",
       "    }\n",
       "\n",
       "    .dataframe tbody tr th {\n",
       "        vertical-align: top;\n",
       "    }\n",
       "\n",
       "    .dataframe thead th {\n",
       "        text-align: right;\n",
       "    }\n",
       "</style>\n",
       "<table border=\"1\" class=\"dataframe\">\n",
       "  <thead>\n",
       "    <tr style=\"text-align: right;\">\n",
       "      <th></th>\n",
       "      <th>english</th>\n",
       "      <th>marathi</th>\n",
       "    </tr>\n",
       "  </thead>\n",
       "  <tbody>\n",
       "    <tr>\n",
       "      <th>0</th>\n",
       "      <td>10</td>\n",
       "      <td>22</td>\n",
       "    </tr>\n",
       "    <tr>\n",
       "      <th>1</th>\n",
       "      <td>11</td>\n",
       "      <td>55</td>\n",
       "    </tr>\n",
       "    <tr>\n",
       "      <th>2</th>\n",
       "      <td>20</td>\n",
       "      <td>77</td>\n",
       "    </tr>\n",
       "    <tr>\n",
       "      <th>3</th>\n",
       "      <td>40</td>\n",
       "      <td>88</td>\n",
       "    </tr>\n",
       "    <tr>\n",
       "      <th>4</th>\n",
       "      <td>55</td>\n",
       "      <td>66</td>\n",
       "    </tr>\n",
       "  </tbody>\n",
       "</table>\n",
       "</div>"
      ],
      "text/plain": [
       "   english  marathi\n",
       "0       10       22\n",
       "1       11       55\n",
       "2       20       77\n",
       "3       40       88\n",
       "4       55       66"
      ]
     },
     "execution_count": 7,
     "metadata": {},
     "output_type": "execute_result"
    }
   ],
   "source": [
    "#  create a datafreame\n",
    "pd.DataFrame({\"english\":series, \"marathi\":series_2})"
   ]
  },
  {
   "cell_type": "code",
   "execution_count": 8,
   "id": "0ad652fa",
   "metadata": {},
   "outputs": [],
   "source": [
    "name=(\"tejas\",\"aniket\",\"suraj\",\"akash\",\"pratik\")\n",
    "age=(22,25,36,45,28,32,65,45,25)\n",
    "income=(55000,99000,88000,66000,55000)\n",
    "seving=(40000,55000,66000,40000,35000)"
   ]
  },
  {
   "cell_type": "code",
   "execution_count": 9,
   "id": "b551a55b",
   "metadata": {},
   "outputs": [
    {
     "ename": "ValueError",
     "evalue": "Length of values (9) does not match length of index (5)",
     "output_type": "error",
     "traceback": [
      "\u001b[1;31m---------------------------------------------------------------------------\u001b[0m",
      "\u001b[1;31mValueError\u001b[0m                                Traceback (most recent call last)",
      "Input \u001b[1;32mIn [9]\u001b[0m, in \u001b[0;36m<cell line: 1>\u001b[1;34m()\u001b[0m\n\u001b[1;32m----> 1\u001b[0m \u001b[43mpd\u001b[49m\u001b[38;5;241;43m.\u001b[39;49m\u001b[43mDataFrame\u001b[49m\u001b[43m(\u001b[49m\u001b[43m{\u001b[49m\u001b[38;5;124;43m\"\u001b[39;49m\u001b[38;5;124;43mnames\u001b[39;49m\u001b[38;5;124;43m\"\u001b[39;49m\u001b[43m:\u001b[49m\u001b[43mname\u001b[49m\u001b[43m,\u001b[49m\u001b[38;5;124;43m\"\u001b[39;49m\u001b[38;5;124;43mages\u001b[39;49m\u001b[38;5;124;43m\"\u001b[39;49m\u001b[43m:\u001b[49m\u001b[43mage\u001b[49m\u001b[43m,\u001b[49m\u001b[38;5;124;43m\"\u001b[39;49m\u001b[38;5;124;43mincomes\u001b[39;49m\u001b[38;5;124;43m\"\u001b[39;49m\u001b[43m:\u001b[49m\u001b[43mincome\u001b[49m\u001b[43m,\u001b[49m\u001b[38;5;124;43m\"\u001b[39;49m\u001b[38;5;124;43msavings\u001b[39;49m\u001b[38;5;124;43m\"\u001b[39;49m\u001b[43m:\u001b[49m\u001b[43mseving\u001b[49m\u001b[43m}\u001b[49m\u001b[43m,\u001b[49m\u001b[43mindex\u001b[49m\u001b[38;5;241;43m=\u001b[39;49m\u001b[43m(\u001b[49m\u001b[38;5;241;43m1\u001b[39;49m\u001b[43m,\u001b[49m\u001b[38;5;241;43m2\u001b[39;49m\u001b[43m,\u001b[49m\u001b[38;5;241;43m3\u001b[39;49m\u001b[43m,\u001b[49m\u001b[38;5;241;43m4\u001b[39;49m\u001b[43m,\u001b[49m\u001b[38;5;241;43m5\u001b[39;49m\u001b[43m)\u001b[49m\u001b[43m)\u001b[49m\n",
      "File \u001b[1;32mC:\\ProgramData\\Anaconda3\\lib\\site-packages\\pandas\\core\\frame.py:636\u001b[0m, in \u001b[0;36mDataFrame.__init__\u001b[1;34m(self, data, index, columns, dtype, copy)\u001b[0m\n\u001b[0;32m    630\u001b[0m     mgr \u001b[38;5;241m=\u001b[39m \u001b[38;5;28mself\u001b[39m\u001b[38;5;241m.\u001b[39m_init_mgr(\n\u001b[0;32m    631\u001b[0m         data, axes\u001b[38;5;241m=\u001b[39m{\u001b[38;5;124m\"\u001b[39m\u001b[38;5;124mindex\u001b[39m\u001b[38;5;124m\"\u001b[39m: index, \u001b[38;5;124m\"\u001b[39m\u001b[38;5;124mcolumns\u001b[39m\u001b[38;5;124m\"\u001b[39m: columns}, dtype\u001b[38;5;241m=\u001b[39mdtype, copy\u001b[38;5;241m=\u001b[39mcopy\n\u001b[0;32m    632\u001b[0m     )\n\u001b[0;32m    634\u001b[0m \u001b[38;5;28;01melif\u001b[39;00m \u001b[38;5;28misinstance\u001b[39m(data, \u001b[38;5;28mdict\u001b[39m):\n\u001b[0;32m    635\u001b[0m     \u001b[38;5;66;03m# GH#38939 de facto copy defaults to False only in non-dict cases\u001b[39;00m\n\u001b[1;32m--> 636\u001b[0m     mgr \u001b[38;5;241m=\u001b[39m \u001b[43mdict_to_mgr\u001b[49m\u001b[43m(\u001b[49m\u001b[43mdata\u001b[49m\u001b[43m,\u001b[49m\u001b[43m \u001b[49m\u001b[43mindex\u001b[49m\u001b[43m,\u001b[49m\u001b[43m \u001b[49m\u001b[43mcolumns\u001b[49m\u001b[43m,\u001b[49m\u001b[43m \u001b[49m\u001b[43mdtype\u001b[49m\u001b[38;5;241;43m=\u001b[39;49m\u001b[43mdtype\u001b[49m\u001b[43m,\u001b[49m\u001b[43m \u001b[49m\u001b[43mcopy\u001b[49m\u001b[38;5;241;43m=\u001b[39;49m\u001b[43mcopy\u001b[49m\u001b[43m,\u001b[49m\u001b[43m \u001b[49m\u001b[43mtyp\u001b[49m\u001b[38;5;241;43m=\u001b[39;49m\u001b[43mmanager\u001b[49m\u001b[43m)\u001b[49m\n\u001b[0;32m    637\u001b[0m \u001b[38;5;28;01melif\u001b[39;00m \u001b[38;5;28misinstance\u001b[39m(data, ma\u001b[38;5;241m.\u001b[39mMaskedArray):\n\u001b[0;32m    638\u001b[0m     \u001b[38;5;28;01mimport\u001b[39;00m \u001b[38;5;21;01mnumpy\u001b[39;00m\u001b[38;5;21;01m.\u001b[39;00m\u001b[38;5;21;01mma\u001b[39;00m\u001b[38;5;21;01m.\u001b[39;00m\u001b[38;5;21;01mmrecords\u001b[39;00m \u001b[38;5;28;01mas\u001b[39;00m \u001b[38;5;21;01mmrecords\u001b[39;00m\n",
      "File \u001b[1;32mC:\\ProgramData\\Anaconda3\\lib\\site-packages\\pandas\\core\\internals\\construction.py:502\u001b[0m, in \u001b[0;36mdict_to_mgr\u001b[1;34m(data, index, columns, dtype, typ, copy)\u001b[0m\n\u001b[0;32m    494\u001b[0m     arrays \u001b[38;5;241m=\u001b[39m [\n\u001b[0;32m    495\u001b[0m         x\n\u001b[0;32m    496\u001b[0m         \u001b[38;5;28;01mif\u001b[39;00m \u001b[38;5;129;01mnot\u001b[39;00m \u001b[38;5;28mhasattr\u001b[39m(x, \u001b[38;5;124m\"\u001b[39m\u001b[38;5;124mdtype\u001b[39m\u001b[38;5;124m\"\u001b[39m) \u001b[38;5;129;01mor\u001b[39;00m \u001b[38;5;129;01mnot\u001b[39;00m \u001b[38;5;28misinstance\u001b[39m(x\u001b[38;5;241m.\u001b[39mdtype, ExtensionDtype)\n\u001b[0;32m    497\u001b[0m         \u001b[38;5;28;01melse\u001b[39;00m x\u001b[38;5;241m.\u001b[39mcopy()\n\u001b[0;32m    498\u001b[0m         \u001b[38;5;28;01mfor\u001b[39;00m x \u001b[38;5;129;01min\u001b[39;00m arrays\n\u001b[0;32m    499\u001b[0m     ]\n\u001b[0;32m    500\u001b[0m     \u001b[38;5;66;03m# TODO: can we get rid of the dt64tz special case above?\u001b[39;00m\n\u001b[1;32m--> 502\u001b[0m \u001b[38;5;28;01mreturn\u001b[39;00m \u001b[43marrays_to_mgr\u001b[49m\u001b[43m(\u001b[49m\u001b[43marrays\u001b[49m\u001b[43m,\u001b[49m\u001b[43m \u001b[49m\u001b[43mcolumns\u001b[49m\u001b[43m,\u001b[49m\u001b[43m \u001b[49m\u001b[43mindex\u001b[49m\u001b[43m,\u001b[49m\u001b[43m \u001b[49m\u001b[43mdtype\u001b[49m\u001b[38;5;241;43m=\u001b[39;49m\u001b[43mdtype\u001b[49m\u001b[43m,\u001b[49m\u001b[43m \u001b[49m\u001b[43mtyp\u001b[49m\u001b[38;5;241;43m=\u001b[39;49m\u001b[43mtyp\u001b[49m\u001b[43m,\u001b[49m\u001b[43m \u001b[49m\u001b[43mconsolidate\u001b[49m\u001b[38;5;241;43m=\u001b[39;49m\u001b[43mcopy\u001b[49m\u001b[43m)\u001b[49m\n",
      "File \u001b[1;32mC:\\ProgramData\\Anaconda3\\lib\\site-packages\\pandas\\core\\internals\\construction.py:125\u001b[0m, in \u001b[0;36marrays_to_mgr\u001b[1;34m(arrays, columns, index, dtype, verify_integrity, typ, consolidate)\u001b[0m\n\u001b[0;32m    122\u001b[0m         index \u001b[38;5;241m=\u001b[39m ensure_index(index)\n\u001b[0;32m    124\u001b[0m     \u001b[38;5;66;03m# don't force copy because getting jammed in an ndarray anyway\u001b[39;00m\n\u001b[1;32m--> 125\u001b[0m     arrays \u001b[38;5;241m=\u001b[39m \u001b[43m_homogenize\u001b[49m\u001b[43m(\u001b[49m\u001b[43marrays\u001b[49m\u001b[43m,\u001b[49m\u001b[43m \u001b[49m\u001b[43mindex\u001b[49m\u001b[43m,\u001b[49m\u001b[43m \u001b[49m\u001b[43mdtype\u001b[49m\u001b[43m)\u001b[49m\n\u001b[0;32m    126\u001b[0m     \u001b[38;5;66;03m# _homogenize ensures\u001b[39;00m\n\u001b[0;32m    127\u001b[0m     \u001b[38;5;66;03m#  - all(len(x) == len(index) for x in arrays)\u001b[39;00m\n\u001b[0;32m    128\u001b[0m     \u001b[38;5;66;03m#  - all(x.ndim == 1 for x in arrays)\u001b[39;00m\n\u001b[1;32m   (...)\u001b[0m\n\u001b[0;32m    131\u001b[0m \n\u001b[0;32m    132\u001b[0m \u001b[38;5;28;01melse\u001b[39;00m:\n\u001b[0;32m    133\u001b[0m     index \u001b[38;5;241m=\u001b[39m ensure_index(index)\n",
      "File \u001b[1;32mC:\\ProgramData\\Anaconda3\\lib\\site-packages\\pandas\\core\\internals\\construction.py:628\u001b[0m, in \u001b[0;36m_homogenize\u001b[1;34m(data, index, dtype)\u001b[0m\n\u001b[0;32m    623\u001b[0m             val \u001b[38;5;241m=\u001b[39m lib\u001b[38;5;241m.\u001b[39mfast_multiget(val, oindex\u001b[38;5;241m.\u001b[39m_values, default\u001b[38;5;241m=\u001b[39mnp\u001b[38;5;241m.\u001b[39mnan)\n\u001b[0;32m    625\u001b[0m         val \u001b[38;5;241m=\u001b[39m sanitize_array(\n\u001b[0;32m    626\u001b[0m             val, index, dtype\u001b[38;5;241m=\u001b[39mdtype, copy\u001b[38;5;241m=\u001b[39m\u001b[38;5;28;01mFalse\u001b[39;00m, raise_cast_failure\u001b[38;5;241m=\u001b[39m\u001b[38;5;28;01mFalse\u001b[39;00m\n\u001b[0;32m    627\u001b[0m         )\n\u001b[1;32m--> 628\u001b[0m         \u001b[43mcom\u001b[49m\u001b[38;5;241;43m.\u001b[39;49m\u001b[43mrequire_length_match\u001b[49m\u001b[43m(\u001b[49m\u001b[43mval\u001b[49m\u001b[43m,\u001b[49m\u001b[43m \u001b[49m\u001b[43mindex\u001b[49m\u001b[43m)\u001b[49m\n\u001b[0;32m    630\u001b[0m     homogenized\u001b[38;5;241m.\u001b[39mappend(val)\n\u001b[0;32m    632\u001b[0m \u001b[38;5;28;01mreturn\u001b[39;00m homogenized\n",
      "File \u001b[1;32mC:\\ProgramData\\Anaconda3\\lib\\site-packages\\pandas\\core\\common.py:557\u001b[0m, in \u001b[0;36mrequire_length_match\u001b[1;34m(data, index)\u001b[0m\n\u001b[0;32m    553\u001b[0m \u001b[38;5;124;03m\"\"\"\u001b[39;00m\n\u001b[0;32m    554\u001b[0m \u001b[38;5;124;03mCheck the length of data matches the length of the index.\u001b[39;00m\n\u001b[0;32m    555\u001b[0m \u001b[38;5;124;03m\"\"\"\u001b[39;00m\n\u001b[0;32m    556\u001b[0m \u001b[38;5;28;01mif\u001b[39;00m \u001b[38;5;28mlen\u001b[39m(data) \u001b[38;5;241m!=\u001b[39m \u001b[38;5;28mlen\u001b[39m(index):\n\u001b[1;32m--> 557\u001b[0m     \u001b[38;5;28;01mraise\u001b[39;00m \u001b[38;5;167;01mValueError\u001b[39;00m(\n\u001b[0;32m    558\u001b[0m         \u001b[38;5;124m\"\u001b[39m\u001b[38;5;124mLength of values \u001b[39m\u001b[38;5;124m\"\u001b[39m\n\u001b[0;32m    559\u001b[0m         \u001b[38;5;124mf\u001b[39m\u001b[38;5;124m\"\u001b[39m\u001b[38;5;124m(\u001b[39m\u001b[38;5;132;01m{\u001b[39;00m\u001b[38;5;28mlen\u001b[39m(data)\u001b[38;5;132;01m}\u001b[39;00m\u001b[38;5;124m) \u001b[39m\u001b[38;5;124m\"\u001b[39m\n\u001b[0;32m    560\u001b[0m         \u001b[38;5;124m\"\u001b[39m\u001b[38;5;124mdoes not match length of index \u001b[39m\u001b[38;5;124m\"\u001b[39m\n\u001b[0;32m    561\u001b[0m         \u001b[38;5;124mf\u001b[39m\u001b[38;5;124m\"\u001b[39m\u001b[38;5;124m(\u001b[39m\u001b[38;5;132;01m{\u001b[39;00m\u001b[38;5;28mlen\u001b[39m(index)\u001b[38;5;132;01m}\u001b[39;00m\u001b[38;5;124m)\u001b[39m\u001b[38;5;124m\"\u001b[39m\n\u001b[0;32m    562\u001b[0m     )\n",
      "\u001b[1;31mValueError\u001b[0m: Length of values (9) does not match length of index (5)"
     ]
    }
   ],
   "source": [
    "pd.DataFrame({\"names\":name,\"ages\":age,\"incomes\":income,\"savings\":seving},index=(1,2,3,4,5))"
   ]
  },
  {
   "cell_type": "code",
   "execution_count": null,
   "id": "2ec4179d",
   "metadata": {},
   "outputs": [],
   "source": [
    "name=(\"tejas\",\"aniket\",\"suraj\",\"akash\",\"pratik\",\"ajey\",\"roshan\",\"pravin\",\"pankaj\")\n",
    "age=(22,25,36,45,28,32,65,45,25)\n",
    "income=(55000,99000,88000,66000,55000,66000,55000,78000,66000)\n",
    "seving=(40000,55000,66000,40000,35000,22000,23000,25330,45000)\n",
    "city=(\"pune\",\"mumbai\",\"nashik\",\"pune\",\"mumbai\",\"nashik\",\"pune\",\"mumbai\",\"nashik\")"
   ]
  },
  {
   "cell_type": "code",
   "execution_count": null,
   "id": "bf662f12",
   "metadata": {},
   "outputs": [],
   "source": [
    "pd.DataFrame({\"names\":name,\"ages\":age,\"incomes\":income,\"savings\":seving,\"citys\":city},index=(1,2,3,4,5,6,7,8,9))"
   ]
  },
  {
   "cell_type": "code",
   "execution_count": null,
   "id": "3c09ce1a",
   "metadata": {},
   "outputs": [],
   "source": [
    "import pandas as pd # impord pandas labrury for cleaning data and as function is define a another name for understanding"
   ]
  },
  {
   "cell_type": "code",
   "execution_count": null,
   "id": "eec0919d",
   "metadata": {},
   "outputs": [],
   "source": [
    "df=pd.read_csv(\"loan_data_set 1.csv\") # here we are importing csv data file with the help of pd = pandas, read = csv"
   ]
  },
  {
   "cell_type": "code",
   "execution_count": null,
   "id": "6efb925f",
   "metadata": {},
   "outputs": [],
   "source": [
    "df"
   ]
  },
  {
   "cell_type": "code",
   "execution_count": null,
   "id": "8d636bc5",
   "metadata": {},
   "outputs": [],
   "source": [
    "df=pd.read_csv(\"loan_data_set 1.csv\", index_col=[\"Loan_ID\"])# index is use for define a row as a index with the help of index_col"
   ]
  },
  {
   "cell_type": "code",
   "execution_count": null,
   "id": "ce92c029",
   "metadata": {},
   "outputs": [],
   "source": [
    "df=pd.read_csv(\"loan_data_set 1.csv\", usecols=['Loan_ID','Gender','Married','Education','Self_Employed'],index_col=['Loan_ID'])\n",
    "# usecols function help to get required colume from large data "
   ]
  },
  {
   "cell_type": "code",
   "execution_count": null,
   "id": "871bf371",
   "metadata": {},
   "outputs": [],
   "source": [
    "df"
   ]
  },
  {
   "cell_type": "code",
   "execution_count": null,
   "id": "e8821b4e",
   "metadata": {},
   "outputs": [],
   "source": [
    "df=pd.read_csv(\"loan_data_set 1.csv\",index_col=[\"Loan_ID\"])"
   ]
  },
  {
   "cell_type": "code",
   "execution_count": null,
   "id": "0471f773",
   "metadata": {},
   "outputs": [],
   "source": [
    "df"
   ]
  },
  {
   "cell_type": "code",
   "execution_count": null,
   "id": "6a79484b",
   "metadata": {},
   "outputs": [],
   "source": [
    "df"
   ]
  },
  {
   "cell_type": "code",
   "execution_count": null,
   "id": "357e3814",
   "metadata": {},
   "outputs": [],
   "source": [
    "df= pd.read_csv(\"loan_data_set 1.csv\", usecols=(\"Loan_ID\", \"Gender\", \"Married\", \"Dependents\"), index_col=(\"Loan_ID\"),nrows=20)\n",
    "# nrows is use for calling particuler rows from table"
   ]
  },
  {
   "cell_type": "code",
   "execution_count": null,
   "id": "14dcd207",
   "metadata": {},
   "outputs": [],
   "source": [
    "df"
   ]
  },
  {
   "cell_type": "markdown",
   "id": "01c31b40",
   "metadata": {},
   "source": [
    "# HIGH LEVEL UNDERSTANDING"
   ]
  },
  {
   "cell_type": "code",
   "execution_count": null,
   "id": "c4d89083",
   "metadata": {},
   "outputs": [],
   "source": [
    "# high level understanding\n",
    "# understanding our whole data"
   ]
  },
  {
   "cell_type": "code",
   "execution_count": null,
   "id": "b95449e7",
   "metadata": {},
   "outputs": [],
   "source": [
    "df.head() # head function show the top five rows if we want more rows then add number in paranthesis(100)"
   ]
  },
  {
   "cell_type": "code",
   "execution_count": null,
   "id": "209070ad",
   "metadata": {},
   "outputs": [],
   "source": [
    "df.tail(10) # tail function used for show botom five rows if we want more rows then add number in paranthesis(100)"
   ]
  },
  {
   "cell_type": "code",
   "execution_count": null,
   "id": "ec3719a4",
   "metadata": {},
   "outputs": [],
   "source": [
    "df.shape # shape give the structure of data it means how many rows and how many colume in table"
   ]
  },
  {
   "cell_type": "code",
   "execution_count": null,
   "id": "4ff1cf80",
   "metadata": {},
   "outputs": [],
   "source": [
    "df.dtypes # dtypes use for knowing the dype of data such as string, integer, floting, boolean etc"
   ]
  },
  {
   "cell_type": "code",
   "execution_count": null,
   "id": "feb3ba5b",
   "metadata": {},
   "outputs": [],
   "source": [
    "df.mean()"
   ]
  },
  {
   "cell_type": "code",
   "execution_count": null,
   "id": "a3c732a3",
   "metadata": {},
   "outputs": [],
   "source": [
    "df1=pd.read_csv(\"loan_data_set 1.csv\")"
   ]
  },
  {
   "cell_type": "code",
   "execution_count": null,
   "id": "88ba15e1",
   "metadata": {},
   "outputs": [],
   "source": [
    "df1"
   ]
  },
  {
   "cell_type": "code",
   "execution_count": null,
   "id": "97ff64da",
   "metadata": {},
   "outputs": [],
   "source": [
    "df1.mean() # calculate the mean of all the numeric value or mesure columes"
   ]
  },
  {
   "cell_type": "code",
   "execution_count": null,
   "id": "f9d684ce",
   "metadata": {},
   "outputs": [],
   "source": [
    "df1.median() # calculate the median of all the numeric value or mesure columes"
   ]
  },
  {
   "cell_type": "code",
   "execution_count": null,
   "id": "f3ccb3e9",
   "metadata": {},
   "outputs": [],
   "source": [
    "df1.std()"
   ]
  },
  {
   "cell_type": "code",
   "execution_count": null,
   "id": "7789011b",
   "metadata": {},
   "outputs": [],
   "source": [
    "df1.max()"
   ]
  },
  {
   "cell_type": "code",
   "execution_count": null,
   "id": "eb31580d",
   "metadata": {},
   "outputs": [],
   "source": [
    "df1.min()"
   ]
  },
  {
   "cell_type": "code",
   "execution_count": null,
   "id": "19ce6e87",
   "metadata": {},
   "outputs": [],
   "source": [
    "df1.describe() # provide the information of all the numeric columes"
   ]
  },
  {
   "cell_type": "code",
   "execution_count": null,
   "id": "8cf3f0b2",
   "metadata": {},
   "outputs": [],
   "source": [
    "df1.describe(include=\"all\") # here we get both the numeric and charector colume information"
   ]
  },
  {
   "cell_type": "markdown",
   "id": "bf1e5035",
   "metadata": {},
   "source": [
    "# LOW LEVEL UNDERSTANDING:"
   ]
  },
  {
   "cell_type": "code",
   "execution_count": null,
   "id": "201a8f8d",
   "metadata": {},
   "outputs": [],
   "source": [
    "# UNIVERITE ANALYSIS\n",
    "# BIVARIATE ANALYSIS\n",
    "# MULTIVARITE ANALYSIS"
   ]
  },
  {
   "cell_type": "markdown",
   "id": "377d3f28",
   "metadata": {},
   "source": [
    "# UNIVERITE ANALYSIS"
   ]
  },
  {
   "cell_type": "code",
   "execution_count": null,
   "id": "88aee245",
   "metadata": {},
   "outputs": [],
   "source": [
    "df1"
   ]
  },
  {
   "cell_type": "code",
   "execution_count": null,
   "id": "804d8725",
   "metadata": {},
   "outputs": [],
   "source": [
    "df1.dtypes # show type of data object called as catagorical data and two type of catagorical data 1= nominal, 2= ordinal"
   ]
  },
  {
   "cell_type": "code",
   "execution_count": null,
   "id": "c22cb061",
   "metadata": {},
   "outputs": [],
   "source": []
  },
  {
   "cell_type": "code",
   "execution_count": null,
   "id": "e3749bbd",
   "metadata": {},
   "outputs": [],
   "source": [
    "# UNIVERITE : CATAGORIC"
   ]
  },
  {
   "cell_type": "code",
   "execution_count": null,
   "id": "4adf7871",
   "metadata": {},
   "outputs": [],
   "source": [
    "df1[\"Gender\"].nunique() # show the number of unique value in particuler colume"
   ]
  },
  {
   "cell_type": "code",
   "execution_count": null,
   "id": "e4b5e117",
   "metadata": {},
   "outputs": [],
   "source": [
    "df1[\"Loan_ID\"].nunique()"
   ]
  },
  {
   "cell_type": "code",
   "execution_count": null,
   "id": "eceb8d8b",
   "metadata": {},
   "outputs": [],
   "source": [
    "df1[\"Education\"].nunique()"
   ]
  },
  {
   "cell_type": "code",
   "execution_count": null,
   "id": "1f8da48c",
   "metadata": {},
   "outputs": [],
   "source": [
    "df1[\"Gender\"].value_counts() # value_counts function counts the freqvency of charector or number"
   ]
  },
  {
   "cell_type": "code",
   "execution_count": null,
   "id": "85ac6989",
   "metadata": {},
   "outputs": [],
   "source": [
    "df1[\"Education\"].value_counts()"
   ]
  },
  {
   "cell_type": "code",
   "execution_count": null,
   "id": "015d3fbb",
   "metadata": {},
   "outputs": [],
   "source": [
    "df1[\"Loan_Status\"].value_counts(normalize= True)*100 # normalize function used for getting percentage of colume"
   ]
  },
  {
   "cell_type": "code",
   "execution_count": null,
   "id": "d31d44fc",
   "metadata": {},
   "outputs": [],
   "source": [
    "df1[\"Gender\"].value_counts(normalize=True)*100"
   ]
  },
  {
   "cell_type": "code",
   "execution_count": null,
   "id": "aa551a46",
   "metadata": {},
   "outputs": [],
   "source": [
    "df1[\"Gender\"].value_counts().plot(kind=\"pie\") # .plot(kind=\"abc\") use for create graphs"
   ]
  },
  {
   "cell_type": "code",
   "execution_count": null,
   "id": "488690d0",
   "metadata": {},
   "outputs": [],
   "source": [
    "df1[\"Loan_Status\"].value_counts().plot(kind=\"bar\") # BAR CHART"
   ]
  },
  {
   "cell_type": "code",
   "execution_count": null,
   "id": "44800966",
   "metadata": {},
   "outputs": [],
   "source": [
    "df1[\"LoanAmount\"].plot(kind=\"hist\") # HISTOGRAM"
   ]
  },
  {
   "cell_type": "code",
   "execution_count": null,
   "id": "a08fa5df",
   "metadata": {},
   "outputs": [],
   "source": [
    "df1[\"ApplicantIncome\"].plot(kind=\"kde\") # KARNAL DENCITY APPLICATION GRAFH"
   ]
  },
  {
   "cell_type": "code",
   "execution_count": 10,
   "id": "df7ec781",
   "metadata": {},
   "outputs": [
    {
     "ename": "NameError",
     "evalue": "name 'df1' is not defined",
     "output_type": "error",
     "traceback": [
      "\u001b[1;31m---------------------------------------------------------------------------\u001b[0m",
      "\u001b[1;31mNameError\u001b[0m                                 Traceback (most recent call last)",
      "Input \u001b[1;32mIn [10]\u001b[0m, in \u001b[0;36m<cell line: 1>\u001b[1;34m()\u001b[0m\n\u001b[1;32m----> 1\u001b[0m \u001b[43mdf1\u001b[49m[\u001b[38;5;124m\"\u001b[39m\u001b[38;5;124mCoapplicantIncome\u001b[39m\u001b[38;5;124m\"\u001b[39m]\u001b[38;5;241m.\u001b[39mplot(kind\u001b[38;5;241m=\u001b[39m\u001b[38;5;124m\"\u001b[39m\u001b[38;5;124mkde\u001b[39m\u001b[38;5;124m\"\u001b[39m)\n",
      "\u001b[1;31mNameError\u001b[0m: name 'df1' is not defined"
     ]
    }
   ],
   "source": [
    "df1[\"CoapplicantIncome\"].plot(kind=\"kde\") # KARNAL DENCITY ESTIMATION GRAFH"
   ]
  },
  {
   "cell_type": "code",
   "execution_count": null,
   "id": "c4ae23f6",
   "metadata": {},
   "outputs": [],
   "source": [
    "df1[\"ApplicantIncome\"].plot(kind=\"box\") # BOXPLOT GRAFH "
   ]
  },
  {
   "cell_type": "code",
   "execution_count": null,
   "id": "8d696ecd",
   "metadata": {},
   "outputs": [],
   "source": [
    "df1[\"CoapplicantIncome\"].plot(kind=\"box\") # BOXPLOT GRAFH"
   ]
  },
  {
   "cell_type": "code",
   "execution_count": null,
   "id": "95da9319",
   "metadata": {},
   "outputs": [],
   "source": [
    "df1.tail(2)"
   ]
  },
  {
   "cell_type": "code",
   "execution_count": null,
   "id": "90ddc897",
   "metadata": {},
   "outputs": [],
   "source": [
    "df1[\"Loan_Status\"].value_counts().plot(kind='kde')"
   ]
  },
  {
   "cell_type": "code",
   "execution_count": null,
   "id": "4dd9de48",
   "metadata": {},
   "outputs": [],
   "source": []
  },
  {
   "cell_type": "markdown",
   "id": "347bafef",
   "metadata": {},
   "source": [
    "# BIVERITE ANALYSIS : catagorical value"
   ]
  },
  {
   "cell_type": "code",
   "execution_count": null,
   "id": "ddc204d5",
   "metadata": {},
   "outputs": [],
   "source": [
    "# how many female got the loan"
   ]
  },
  {
   "cell_type": "code",
   "execution_count": null,
   "id": "05c99657",
   "metadata": {},
   "outputs": [],
   "source": [
    "df1.tail(2)"
   ]
  },
  {
   "cell_type": "code",
   "execution_count": null,
   "id": "43abada4",
   "metadata": {},
   "outputs": [],
   "source": []
  },
  {
   "cell_type": "code",
   "execution_count": null,
   "id": "b0b1ac77",
   "metadata": {},
   "outputs": [],
   "source": [
    "# pd.crosstab(df1[\"column1\"],[\"column2\"],margins=True,normalize=)\n",
    "# pd = pandas\n",
    "#crosstab = Create a tabuler form\n",
    "#margins = get the sum of the across rows and column\n",
    "#normalize \"index\" = get the rows parcentage\n",
    "#normalize \"columns\" = get the columns parcentage"
   ]
  },
  {
   "cell_type": "code",
   "execution_count": null,
   "id": "8f664e6f",
   "metadata": {},
   "outputs": [],
   "source": [
    "pd.crosstab(df1[\"Gender\"],df1[\"Loan_Status\"])# pd= pandas, crosstab= create a table, under()= enter the name of two colume separeted by comma"
   ]
  },
  {
   "cell_type": "code",
   "execution_count": null,
   "id": "1d205be4",
   "metadata": {},
   "outputs": [],
   "source": [
    "pd.crosstab(df1[\"Gender\"],df1[\"Loan_Status\"],margins=True)# margins describe  the of data across the rows and column "
   ]
  },
  {
   "cell_type": "code",
   "execution_count": null,
   "id": "0391c09f",
   "metadata": {},
   "outputs": [],
   "source": [
    "pd.crosstab(df1[\"Gender\"],df1[\"Education\"],normalize='index')*100 # index function give the parcentage value in the rows form"
   ]
  },
  {
   "cell_type": "code",
   "execution_count": null,
   "id": "50d2f2cc",
   "metadata": {},
   "outputs": [],
   "source": [
    "pd.crosstab(df1[\"Gender\"],df1[\"Loan_Status\"],normalize='columns')*100 # columns function give the parcentage value in the column form"
   ]
  },
  {
   "cell_type": "code",
   "execution_count": null,
   "id": "56e2f9cd",
   "metadata": {},
   "outputs": [],
   "source": [
    "pd.crosstab(df1[\"Gender\"],df1[\"Loan_Status\"]).plot(kind='bar') # here show the bar chart loan accepted by male and female"
   ]
  },
  {
   "cell_type": "code",
   "execution_count": null,
   "id": "37999876",
   "metadata": {},
   "outputs": [],
   "source": [
    "df1.tail(2)"
   ]
  },
  {
   "cell_type": "code",
   "execution_count": null,
   "id": "e8ee6477",
   "metadata": {},
   "outputs": [],
   "source": [
    "pd.crosstab(df1[\"Education\"],df1['Loan_Status'])"
   ]
  },
  {
   "cell_type": "code",
   "execution_count": null,
   "id": "d2087e64",
   "metadata": {},
   "outputs": [],
   "source": [
    "pd.crosstab(df1[\"Education\"],df1['Loan_Status'],margins=True)"
   ]
  },
  {
   "cell_type": "code",
   "execution_count": null,
   "id": "e0a80bb7",
   "metadata": {},
   "outputs": [],
   "source": [
    "pd.crosstab(df1['Education'],df1['Loan_Status']).plot(kind='box')# here show the boxplot chart loan accepted by education male and female"
   ]
  },
  {
   "cell_type": "code",
   "execution_count": null,
   "id": "8e7e11fd",
   "metadata": {},
   "outputs": [],
   "source": [
    "pd.crosstab(df1[\"Education\"],df1['Loan_Status'],normalize='columns')*100"
   ]
  },
  {
   "cell_type": "code",
   "execution_count": null,
   "id": "4e368598",
   "metadata": {},
   "outputs": [],
   "source": [
    "pd.crosstab(df1['Education'],df1['Loan_Status']).plot(kind='bar')"
   ]
  },
  {
   "cell_type": "code",
   "execution_count": null,
   "id": "e4ae2f57",
   "metadata": {},
   "outputs": [],
   "source": [
    "pd.crosstab(df1[\"Credit_History\"],df1[\"Loan_Status\"],margins=True)"
   ]
  },
  {
   "cell_type": "code",
   "execution_count": null,
   "id": "52a8426c",
   "metadata": {},
   "outputs": [],
   "source": [
    "pd.crosstab(df1[\"Credit_History\"],df1[\"Loan_Status\"],normalize='columns')*100"
   ]
  },
  {
   "cell_type": "code",
   "execution_count": null,
   "id": "0f8a26b5",
   "metadata": {},
   "outputs": [],
   "source": [
    "pd.crosstab(df1[\"Credit_History\"],df1[\"Loan_Status\"],normalize='index')*100"
   ]
  },
  {
   "cell_type": "code",
   "execution_count": null,
   "id": "f7d9c885",
   "metadata": {},
   "outputs": [],
   "source": [
    "pd.crosstab(df1[\"Credit_History\"],df1[\"Loan_Status\"],normalize='columns').plot(kind='bar')"
   ]
  },
  {
   "cell_type": "markdown",
   "id": "ba26a9c3",
   "metadata": {},
   "source": [
    "# coreletion "
   ]
  },
  {
   "cell_type": "code",
   "execution_count": null,
   "id": "34123ce7",
   "metadata": {},
   "outputs": [],
   "source": [
    "\"\"\" corelation show the strenth of lenear reletionship with two numeric variable and is expressed numerically\n",
    " by the corelation coefitiant which range form -1 to 1(-1,0,1)\n",
    "-1 = parfect negetive coraletion\n",
    " 0 = is no corelation between columns\n",
    " 1 = is perfect coralation between columns\n",
    " \n",
    "\"\"\" \n",
    "\"\"\"1 = parfect positive corelation\n",
    "  .8 = highly positive corelation\n",
    "  .3 = low positive corelation\n",
    "   0 = no corelation \n",
    " -.8 = low negetive corelation\n",
    " -.3 = highly negetive corelation\n",
    " -.1 = parfect negetive coralation\"\"\""
   ]
  },
  {
   "cell_type": "markdown",
   "id": "b4e6a1c0",
   "metadata": {},
   "source": [
    "# bi veriate analysis on numeric columns\n"
   ]
  },
  {
   "cell_type": "code",
   "execution_count": null,
   "id": "bf9f8d35",
   "metadata": {},
   "outputs": [],
   "source": [
    "df1.corr() # show the corelation between numeric column"
   ]
  },
  {
   "cell_type": "code",
   "execution_count": null,
   "id": "9316475a",
   "metadata": {},
   "outputs": [],
   "source": [
    "df1[\"ApplicantIncome_inr\"]= df1[\"ApplicantIncome\"]*80 \n",
    "# here we add another column as ApplicantIncome_inr for finding correlation between ApplicantIncome and ApplicantIncome_inr"
   ]
  },
  {
   "cell_type": "code",
   "execution_count": null,
   "id": "7f379de0",
   "metadata": {},
   "outputs": [],
   "source": [
    "df1.tail()"
   ]
  },
  {
   "cell_type": "code",
   "execution_count": null,
   "id": "e583217b",
   "metadata": {},
   "outputs": [],
   "source": [
    "df1.corr() # we can see the correlation between ApplicantIncome and ApplicantIncome_inr"
   ]
  },
  {
   "cell_type": "markdown",
   "id": "5a878059",
   "metadata": {},
   "source": [
    "# Import seaborn library "
   ]
  },
  {
   "cell_type": "code",
   "execution_count": null,
   "id": "422cda84",
   "metadata": {},
   "outputs": [],
   "source": [
    "# here we import seaborn library for better visualiztion by heatmap for finding \n",
    "# correlation between columns"
   ]
  },
  {
   "cell_type": "code",
   "execution_count": null,
   "id": "118014ea",
   "metadata": {},
   "outputs": [],
   "source": [
    "import seaborn as sea"
   ]
  },
  {
   "cell_type": "code",
   "execution_count": null,
   "id": "2b7818f6",
   "metadata": {},
   "outputs": [],
   "source": [
    "a=df1 # here we need to store the df1 in \"A\" veriable "
   ]
  },
  {
   "cell_type": "code",
   "execution_count": null,
   "id": "f17c7455",
   "metadata": {},
   "outputs": [],
   "source": [
    "sea.headmap(a)"
   ]
  },
  {
   "cell_type": "code",
   "execution_count": null,
   "id": "c1bf38a5",
   "metadata": {},
   "outputs": [],
   "source": [
    "!pip install ppscore"
   ]
  },
  {
   "cell_type": "code",
   "execution_count": null,
   "id": "a9e651a9",
   "metadata": {},
   "outputs": [],
   "source": [
    "import ppscore as pps"
   ]
  },
  {
   "cell_type": "code",
   "execution_count": null,
   "id": "c03e57e0",
   "metadata": {},
   "outputs": [],
   "source": [
    "df1.tail(2)"
   ]
  },
  {
   "cell_type": "code",
   "execution_count": null,
   "id": "330a4e50",
   "metadata": {},
   "outputs": [],
   "source": [
    "pps.score(df1,\"ApplicantIncome\",\"CoapplicantIncome\") # here we find correlation between two numeric columns\n",
    "# \"0\" is define no correlation between \"ApplicantIncome\" and \"CoapplicantIncome\""
   ]
  },
  {
   "cell_type": "code",
   "execution_count": null,
   "id": "ab40bbc0",
   "metadata": {},
   "outputs": [],
   "source": [
    "pps.score(df1,\"Married\",\"Self_Employed\") # here is find correlation between two catagorical columns\n",
    "# \"4.80\" is define some correlated value are present in both the columns\n"
   ]
  },
  {
   "cell_type": "code",
   "execution_count": null,
   "id": "986bdb63",
   "metadata": {},
   "outputs": [],
   "source": [
    "pps.score(df1,\"Education\",\"LoanAmount\") # here is find hybrid (catagorical and numeric) correlation between two columns"
   ]
  },
  {
   "cell_type": "code",
   "execution_count": null,
   "id": "1b94e7c3",
   "metadata": {},
   "outputs": [],
   "source": [
    "pps.score(df1,\"ApplicantIncome\",\"ApplicantIncome_inr\")\n",
    "# here is show the pps value almost nearest to \"1\" so we can remove one column.\"perfect positive correlation\""
   ]
  },
  {
   "cell_type": "code",
   "execution_count": null,
   "id": "b18819aa",
   "metadata": {},
   "outputs": [],
   "source": [
    "df1.boxplot(column=\"ApplicantIncome\", by=\"Gender\")"
   ]
  },
  {
   "cell_type": "code",
   "execution_count": null,
   "id": "1d60d385",
   "metadata": {},
   "outputs": [],
   "source": [
    "df1.boxplot(column=\"ApplicantIncome\",by=\"Loan_Status\") # here we can see bank have their own criteri releted to income"
   ]
  },
  {
   "cell_type": "code",
   "execution_count": null,
   "id": "7e122e85",
   "metadata": {},
   "outputs": [],
   "source": [
    "df1.boxplot(column=\"ApplicantIncome\",by=\"Credit_History\") # credit history of aplicant help to decide apruval for loan"
   ]
  },
  {
   "cell_type": "markdown",
   "id": "b2e4f79e",
   "metadata": {},
   "source": [
    "# Pandas Profiling # sumerise the dataset"
   ]
  },
  {
   "cell_type": "code",
   "execution_count": null,
   "id": "af39f6ba",
   "metadata": {},
   "outputs": [],
   "source": [
    "import pandas_profiling as pp\n"
   ]
  },
  {
   "cell_type": "code",
   "execution_count": null,
   "id": "18558b47",
   "metadata": {},
   "outputs": [],
   "source": [
    "import pandas_profiling"
   ]
  },
  {
   "cell_type": "code",
   "execution_count": null,
   "id": "59551814",
   "metadata": {},
   "outputs": [],
   "source": [
    "!pip install pandas-profiling"
   ]
  },
  {
   "cell_type": "code",
   "execution_count": null,
   "id": "6e2349a3",
   "metadata": {},
   "outputs": [],
   "source": [
    "import pandas_profiling # here pandas profiling help to get overall analysis of dataset "
   ]
  },
  {
   "cell_type": "code",
   "execution_count": null,
   "id": "48f1ee99",
   "metadata": {},
   "outputs": [],
   "source": [
    "pandas_profiling.ProfileReport(df1) # here we give a dataset veriable to pandas_profiling"
   ]
  },
  {
   "cell_type": "code",
   "execution_count": null,
   "id": "652ce0ed",
   "metadata": {},
   "outputs": [],
   "source": []
  },
  {
   "cell_type": "code",
   "execution_count": null,
   "id": "8140bfd7",
   "metadata": {},
   "outputs": [],
   "source": []
  },
  {
   "cell_type": "code",
   "execution_count": null,
   "id": "878c3a73",
   "metadata": {},
   "outputs": [],
   "source": []
  },
  {
   "cell_type": "code",
   "execution_count": null,
   "id": "4fb95580",
   "metadata": {},
   "outputs": [],
   "source": []
  },
  {
   "cell_type": "code",
   "execution_count": null,
   "id": "10fa5218",
   "metadata": {},
   "outputs": [],
   "source": []
  },
  {
   "cell_type": "code",
   "execution_count": null,
   "id": "cf731a12",
   "metadata": {},
   "outputs": [],
   "source": []
  },
  {
   "cell_type": "code",
   "execution_count": null,
   "id": "4c286a01",
   "metadata": {},
   "outputs": [],
   "source": []
  },
  {
   "cell_type": "code",
   "execution_count": null,
   "id": "72545a6f",
   "metadata": {},
   "outputs": [],
   "source": []
  }
 ],
 "metadata": {
  "kernelspec": {
   "display_name": "Python 3 (ipykernel)",
   "language": "python",
   "name": "python3"
  },
  "language_info": {
   "codemirror_mode": {
    "name": "ipython",
    "version": 3
   },
   "file_extension": ".py",
   "mimetype": "text/x-python",
   "name": "python",
   "nbconvert_exporter": "python",
   "pygments_lexer": "ipython3",
   "version": "3.9.12"
  }
 },
 "nbformat": 4,
 "nbformat_minor": 5
}
